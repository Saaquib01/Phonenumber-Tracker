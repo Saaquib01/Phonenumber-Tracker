{
  "nbformat": 4,
  "nbformat_minor": 0,
  "metadata": {
    "colab": {
      "name": "Phonenumbers_Tracker.ipynb",
      "provenance": [],
      "authorship_tag": "ABX9TyOhbHMjkC4HDZQuPlh9eVgt"
    },
    "kernelspec": {
      "name": "python3",
      "display_name": "Python 3"
    },
    "language_info": {
      "name": "python"
    }
  },
  "cells": [
    {
      "cell_type": "code",
      "source": [
        "import phonenumbers\n",
        "from phonenumbers import geocoder, carrier\n",
        "while True:    \n",
        "    try:\n",
        "        number = input(\"Enter your phone number with country code: \")\n",
        "        phone = phonenumbers.parse(number)\n",
        "        car = carrier.name_for_number(phone,\"en\")\n",
        "        reg = geocoder.description_for_number(phone,\"en\")\n",
        "        print(car)\n",
        "        print(reg)\n",
        "\n",
        "        y = input(\"press x to stop or enter to continue: \")\n",
        "        if y == 'x':\n",
        "            break\n",
        "    except Exception as e:\n",
        "        print(f'The error occured is: {e}')"
      ],
      "metadata": {
        "id": "yyExyyWCRwAj"
      },
      "execution_count": null,
      "outputs": []
    }
  ]
}